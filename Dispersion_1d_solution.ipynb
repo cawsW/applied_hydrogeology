{
 "cells": [
  {
   "cell_type": "code",
   "execution_count": 13,
   "id": "ad25c81d",
   "metadata": {},
   "outputs": [
    {
     "name": "stdout",
     "output_type": "stream",
     "text": [
      "Ready for Dispersion!\n",
      "done\n"
     ]
    },
    {
     "name": "stderr",
     "output_type": "stream",
     "text": [
      "/tmp/ipykernel_303872/572692025.py:43: UserWarning: Boolean Series key will be reindexed to match DataFrame index.\n",
      "  plt.plot(df.sort_values(['x'])[df['y'] == 1].x,df.sort_values(['x'])[df['y'] == 1].concentration)\n"
     ]
    },
    {
     "data": {
      "image/png": "[encoded data removed]",
      "text/plain": [
       "<Figure size 432x288 with 1 Axes>"
      ]
     },
     "metadata": {},
     "output_type": "display_data"
    }
   ],
   "source": [
    "import numpy as np\n",
    "from scipy import special as sp\n",
    "from scipy import optimize\n",
    "import math\n",
    "import matplotlib.pyplot as plt\n",
    "import pandas as pd\n",
    "plt.style.use('seaborn-whitegrid')\n",
    "\n",
    "print(\"Ready for Dispersion!\")\n",
    "\n",
    "def solute_pulse():\n",
    "    Seconds = 170\n",
    "    \n",
    "    n = 260\n",
    "    D = 1.3 #Dispersion Coefficient\n",
    "    v = 0.153/0.4 # Average linear groundwater velocity\n",
    "    Cnot = 1 #initial solute concentration\n",
    "    L = np.zeros(n)\n",
    "    conc = np.zeros(n,dtype=float)\n",
    "    sqrtPi = np.sqrt(np.pi)\n",
    "    for i in range(n):\n",
    "        L[i] = i\n",
    "    \n",
    "    conc[0] = 1\n",
    "    for t in range(1, Seconds):\n",
    "        for i in range(1, n):\n",
    "            a = sp.erfc((L[i] - (v * t)) / (2* (np.sqrt(D * t))))\n",
    "            b = np.exp((v * L[i]) / (D)) * sp.erfc((L[i] + (v * t)) / (2 * (np.sqrt(D * t))))\n",
    "            conc[i]= (1/2) * (a + b)\n",
    "    return L, conc\n",
    "\n",
    "def main():\n",
    "    df = pd.read_csv('concentration.csv')\n",
    "    \n",
    "    \n",
    "    L,conc = solute_pulse()\n",
    "    plt.ion()\n",
    "    plt.clf()\n",
    "    plt.ylabel('Concentration', fontsize=20, labelpad=8)\n",
    "    plt.xlabel('Length [m]',fontsize=20, labelpad=8)\n",
    "#     plt.xlim(0, 2)\n",
    "    plt.plot(L,conc, c='red')\n",
    "    plt.plot(df.sort_values(['x'])[df['y'] == 1].x,df.sort_values(['x'])[df['y'] == 1].concentration)\n",
    "    plt.draw()\n",
    "    plt.ioff()\n",
    "    plt.show\n",
    "main()\n",
    "print(\"done\")"
   ]
  },
  {
   "cell_type": "code",
   "execution_count": 38,
   "id": "94ba93ac",
   "metadata": {},
   "outputs": [],
   "source": []
  },
  {
   "cell_type": "code",
   "execution_count": null,
   "id": "9feb6e77",
   "metadata": {},
   "outputs": [],
   "source": []
  },
  {
   "cell_type": "code",
   "execution_count": null,
   "id": "0de83865",
   "metadata": {},
   "outputs": [],
   "source": []
  }
 ],
 "metadata": {
  "kernelspec": {
   "display_name": "Python 3 (ipykernel)",
   "language": "python",
   "name": "python3"
  },
  "language_info": {
   "codemirror_mode": {
    "name": "ipython",
    "version": 3
   },
   "file_extension": ".py",
   "mimetype": "text/x-python",
   "name": "python",
   "nbconvert_exporter": "python",
   "pygments_lexer": "ipython3",
   "version": "3.8.10"
  }
 },
 "nbformat": 4,
 "nbformat_minor": 5
}
