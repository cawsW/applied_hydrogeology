{
 "cells": [
  {
   "cell_type": "code",
   "execution_count": 5,
   "id": "a9ff7d5d",
   "metadata": {},
   "outputs": [],
   "source": [
    "import fiona\n",
    "source= fiona.open('my_kriging_export.shp')"
   ]
  },
  {
   "cell_type": "code",
   "execution_count": 7,
   "id": "32ac3e39",
   "metadata": {},
   "outputs": [
    {
     "data": {
      "text/plain": [
       "{}"
      ]
     },
     "execution_count": 7,
     "metadata": {},
     "output_type": "execute_result"
    }
   ],
   "source": [
    "source.crs"
   ]
  },
  {
   "cell_type": "code",
   "execution_count": null,
   "id": "75fd6829",
   "metadata": {},
   "outputs": [],
   "source": []
  }
 ],
 "metadata": {
  "kernelspec": {
   "display_name": "Python 3 (ipykernel)",
   "language": "python",
   "name": "python3"
  },
  "language_info": {
   "codemirror_mode": {
    "name": "ipython",
    "version": 3
   },
   "file_extension": ".py",
   "mimetype": "text/x-python",
   "name": "python",
   "nbconvert_exporter": "python",
   "pygments_lexer": "ipython3",
   "version": "3.8.10"
  }
 },
 "nbformat": 4,
 "nbformat_minor": 5
}
