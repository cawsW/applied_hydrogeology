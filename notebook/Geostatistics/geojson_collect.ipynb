{
 "cells": [
  {
   "cell_type": "code",
   "execution_count": 2,
   "id": "a9ff7d5d",
   "metadata": {},
   "outputs": [],
   "source": [
    "import geopandas as gpd"
   ]
  },
  {
   "cell_type": "code",
   "execution_count": 4,
   "id": "32ac3e39",
   "metadata": {},
   "outputs": [],
   "source": [
    "a = gpd.read_file('my_kriging_export.shp')"
   ]
  },
  {
   "cell_type": "code",
   "execution_count": 5,
   "id": "83a0fe4a",
   "metadata": {},
   "outputs": [
    {
     "data": {
      "text/plain": [
       "<bound method NDFrame.head of              x             y        hh_k        s2  \\\n",
       "0     840990.0  6.516427e+06  160.447994  5.970906   \n",
       "1     840990.0  6.516546e+06  160.376484  6.017834   \n",
       "2     840990.0  6.516665e+06  160.150138  6.080707   \n",
       "3     840990.0  6.516784e+06  160.247752  6.001494   \n",
       "4     840990.0  6.516903e+06  160.434424  5.660585   \n",
       "...        ...           ...         ...       ...   \n",
       "8476  852793.0  6.518451e+06  181.756568  4.284639   \n",
       "8477  852793.0  6.518570e+06  181.247062  5.126291   \n",
       "8478  852793.0  6.518689e+06  181.326232  6.356535   \n",
       "8479  852793.0  6.518808e+06  181.265965  7.448921   \n",
       "8480  852793.0  6.518927e+06  180.910611  8.211679   \n",
       "\n",
       "                            geometry  \n",
       "0     POINT (840990.000 6516427.299)  \n",
       "1     POINT (840990.000 6516546.321)  \n",
       "2     POINT (840990.000 6516665.343)  \n",
       "3     POINT (840990.000 6516784.366)  \n",
       "4     POINT (840990.000 6516903.388)  \n",
       "...                              ...  \n",
       "8476  POINT (852793.000 6518450.679)  \n",
       "8477  POINT (852793.000 6518569.701)  \n",
       "8478  POINT (852793.000 6518688.724)  \n",
       "8479  POINT (852793.000 6518807.746)  \n",
       "8480  POINT (852793.000 6518926.769)  \n",
       "\n",
       "[8481 rows x 5 columns]>"
      ]
     },
     "execution_count": 5,
     "metadata": {},
     "output_type": "execute_result"
    }
   ],
   "source": [
    "a.head"
   ]
  },
  {
   "cell_type": "code",
   "execution_count": null,
   "id": "7c7c9dc5",
   "metadata": {},
   "outputs": [],
   "source": []
  }
 ],
 "metadata": {
  "kernelspec": {
   "display_name": "Python 3 (ipykernel)",
   "language": "python",
   "name": "python3"
  },
  "language_info": {
   "codemirror_mode": {
    "name": "ipython",
    "version": 3
   },
   "file_extension": ".py",
   "mimetype": "text/x-python",
   "name": "python",
   "nbconvert_exporter": "python",
   "pygments_lexer": "ipython3",
   "version": "3.8.10"
  }
 },
 "nbformat": 4,
 "nbformat_minor": 5
}
