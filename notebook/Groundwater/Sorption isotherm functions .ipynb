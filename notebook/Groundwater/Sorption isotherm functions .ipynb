{
 "cells": [
  {
   "cell_type": "code",
   "execution_count": 1,
   "id": "d8447075",
   "metadata": {},
   "outputs": [],
   "source": [
    "import numpy as np\n",
    "import matplotlib.pyplot as plt\n",
    "from scipy.special import erfc as erfc\n",
    "import math"
   ]
  },
  {
   "cell_type": "code",
   "execution_count": 2,
   "id": "b8b0054d",
   "metadata": {},
   "outputs": [
    {
     "name": "stdout",
     "output_type": "stream",
     "text": [
      "[0.         0.02040816 0.04081633 0.06122449 0.08163265 0.10204082\n",
      " 0.12244898 0.14285714 0.16326531 0.18367347 0.20408163 0.2244898\n",
      " 0.24489796 0.26530612 0.28571429 0.30612245 0.32653061 0.34693878\n",
      " 0.36734694 0.3877551  0.40816327 0.42857143 0.44897959 0.46938776\n",
      " 0.48979592 0.51020408 0.53061224 0.55102041 0.57142857 0.59183673\n",
      " 0.6122449  0.63265306 0.65306122 0.67346939 0.69387755 0.71428571\n",
      " 0.73469388 0.75510204 0.7755102  0.79591837 0.81632653 0.83673469\n",
      " 0.85714286 0.87755102 0.89795918 0.91836735 0.93877551 0.95918367\n",
      " 0.97959184 1.        ]\n"
     ]
    }
   ],
   "source": [
    "# first define aqueous phase solute concentration\n",
    "C = np.linspace(0, 1, num=50)\n",
    "print(C)"
   ]
  },
  {
   "cell_type": "code",
   "execution_count": 3,
   "id": "122ae4b9",
   "metadata": {},
   "outputs": [],
   "source": [
    "Kd = 1\n",
    "\n",
    "# Now calculate mass sorption\n",
    "Cs = Kd*C"
   ]
  },
  {
   "cell_type": "code",
   "execution_count": 4,
   "id": "1938dbb3",
   "metadata": {},
   "outputs": [
    {
     "data": {
      "text/plain": [
       "[<matplotlib.lines.Line2D at 0x20529da6e20>]"
      ]
     },
     "execution_count": 4,
     "metadata": {},
     "output_type": "execute_result"
    },
    {
     "data": {
      "image/png": "[encoded data removed]",
      "text/plain": [
       "<Figure size 432x288 with 1 Axes>"
      ]
     },
     "metadata": {
      "needs_background": "light"
     },
     "output_type": "display_data"
    }
   ],
   "source": [
    "# Plot the results\n",
    "plt.plot(C,Cs)\n",
    "\n",
    "# Add axis labels with correct units"
   ]
  },
  {
   "cell_type": "code",
   "execution_count": 5,
   "id": "01803dc8",
   "metadata": {},
   "outputs": [],
   "source": [
    "rhob = 1.6\n",
    "phi = 0.3\n",
    "# R = Fill this in"
   ]
  },
  {
   "cell_type": "code",
   "execution_count": 6,
   "id": "73dd0f2e",
   "metadata": {},
   "outputs": [],
   "source": [
    "alpha = 6\n",
    "beta = 4\n",
    "# Now calculate mass sorption\n",
    "# Cs_langmuir = \n",
    "\n",
    "# Plot the results\n",
    "# plt.plot(C,Cs_langmuir)"
   ]
  },
  {
   "cell_type": "code",
   "execution_count": 7,
   "id": "7544ba6e",
   "metadata": {},
   "outputs": [],
   "source": [
    "kf = 7\n",
    "N = 0.75\n",
    "# Now calculate mass sorption\n",
    "# Cs_freundlich = \n",
    "\n",
    "# Plot the results\n",
    "# plt.plot(C,Cs_freundlich)"
   ]
  },
  {
   "cell_type": "code",
   "execution_count": 8,
   "id": "8e908177",
   "metadata": {},
   "outputs": [],
   "source": [
    "# Analytical solution, REVISE TO ADD R\n",
    "def ADE_type1_Rfun(x, t, v, D, R, C0):\n",
    "    # Note that the '\\' means continued on the next line\n",
    "    C = C0*((1/2)*erfc((x - v*t)/(2*np.sqrt(D*t))) + \\\n",
    "        (1/2)*np.exp(v*x/D)*erfc((x + v*t)/(2*np.sqrt(D*t))))\n",
    "    # Return the concentration (C) from this function\n",
    "    return C"
   ]
  },
  {
   "cell_type": "code",
   "execution_count": 9,
   "id": "746202cd",
   "metadata": {},
   "outputs": [],
   "source": [
    "# Define the input. Model a near surface aquifer with an observation well 100 meters from the source\n",
    "x = 100 # meters\n",
    "t = np.linspace(0.1, 365, num=200) # days\n",
    "v = 0.7 # meter/day\n",
    "D = 1.2 # meters\n",
    "C0 = 1\n",
    "\n",
    "# use a few values of R that you defined above\n",
    "R = 1"
   ]
  },
  {
   "cell_type": "code",
   "execution_count": 10,
   "id": "6ea19dda",
   "metadata": {},
   "outputs": [
    {
     "data": {
      "text/plain": [
       "[<matplotlib.lines.Line2D at 0x2052beb81c0>]"
      ]
     },
     "execution_count": 10,
     "metadata": {},
     "output_type": "execute_result"
    },
    {
     "data": {
      "image/png": "[encoded data removed]",
      "text/plain": [
       "<Figure size 432x288 with 1 Axes>"
      ]
     },
     "metadata": {
      "needs_background": "light"
     },
     "output_type": "display_data"
    }
   ],
   "source": [
    "# Now call our function\n",
    "C_btc = ADE_type1_Rfun(x, t, v, D, R, C0)\n",
    "# Plot the results as a function of time\n",
    "plt.plot(t, C_btc)"
   ]
  },
  {
   "cell_type": "code",
   "execution_count": null,
   "id": "03ab9250",
   "metadata": {},
   "outputs": [],
   "source": []
  }
 ],
 "metadata": {
  "kernelspec": {
   "display_name": "Python 3 (ipykernel)",
   "language": "python",
   "name": "python3"
  },
  "language_info": {
   "codemirror_mode": {
    "name": "ipython",
    "version": 3
   },
   "file_extension": ".py",
   "mimetype": "text/x-python",
   "name": "python",
   "nbconvert_exporter": "python",
   "pygments_lexer": "ipython3",
   "version": "3.8.10"
  }
 },
 "nbformat": 4,
 "nbformat_minor": 5
}
